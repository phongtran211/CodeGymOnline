{
 "cells": [
  {
   "cell_type": "code",
   "execution_count": 1,
   "id": "4e2077fb",
   "metadata": {},
   "outputs": [
    {
     "name": "stdout",
     "output_type": "stream",
     "text": [
      "Nhập tháng: 5\n",
      "Nhập năm: 2021\n",
      "Tháng 5 năm 2021 có 4 tuần chẵn 2 tuần lẻ.\n"
     ]
    }
   ],
   "source": [
    "# Trong các công ty sản xuất, thời gian trong tháng được chia làm các tuần.\n",
    "# Một tuần đầy đủ (gọi là tuần chẵn) được tính từ thứ 2 đến chủ nhật (có đầy đủ các ngày).\n",
    "# Còn tuần lẻ là các tuần không đủ 7 ngày.\n",
    "# Nhập vào tháng và năm, tính số tuần (bao gồm chẵn và lẻ) trong tháng đó.\n",
    "\n",
    "import calendar\n",
    "\n",
    "month = int(input(\"Nhập tháng: \"))\n",
    "year = int(input(\"Nhập năm: \"))\n",
    "\n",
    "day_in_month = calendar.monthcalendar(year,month)\n",
    "first_day = day_in_month[0][0]\n",
    "last_day = day_in_month[-1][-1]\n",
    "tuan = len(day_in_month)\n",
    "\n",
    "if first_day == 0 and last_day == 0:\n",
    "    tuan_le = 2\n",
    "    tuan_chan = tuan - tuan_le\n",
    "else:\n",
    "    tuan_le = 1\n",
    "    tuan_chan = tuan - tuan_le\n",
    "\n",
    "print(\"Tháng\", month, \"năm\", year, \"có\", tuan_chan, \"tuần chẵn\", tuan_le, \"tuần lẻ.\")"
   ]
  },
  {
   "cell_type": "code",
   "execution_count": null,
   "id": "f220ca62",
   "metadata": {},
   "outputs": [],
   "source": []
  }
 ],
 "metadata": {
  "kernelspec": {
   "display_name": "Python 3 (ipykernel)",
   "language": "python",
   "name": "python3"
  },
  "language_info": {
   "codemirror_mode": {
    "name": "ipython",
    "version": 3
   },
   "file_extension": ".py",
   "mimetype": "text/x-python",
   "name": "python",
   "nbconvert_exporter": "python",
   "pygments_lexer": "ipython3",
   "version": "3.9.12"
  }
 },
 "nbformat": 4,
 "nbformat_minor": 5
}
