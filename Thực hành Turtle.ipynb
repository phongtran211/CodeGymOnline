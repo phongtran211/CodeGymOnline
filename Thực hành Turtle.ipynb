{
 "cells": [
  {
   "cell_type": "code",
   "execution_count": 1,
   "id": "53672b64",
   "metadata": {},
   "outputs": [],
   "source": [
    "#Buoc 1: Import thư viện Turtle\n",
    "import turtle\n",
    "\n",
    "#Bước 2: Tạo đối tượng Turtle\n",
    "t = turtle.Turtle()\n",
    "t.shape('turtle')\n",
    "#t.hidetirtle() # Ẩn tirtle\n",
    "#t.showtirtle() # Hiện tirtle\n",
    "#t.speed(1) # Tốc độ\n",
    "t.color('red') #Chọn màu\n",
    "t.pensize(5) #Thay đổi size pen\n",
    "\n",
    "#Bước 3: Vẽ\n",
    "#t.forward(100) #Di chuyển về phía trước 200px\n",
    "#t.right(72) #Quay phải 90 độ\n",
    "#t.forward(100)\n",
    "#t.right(72)\n",
    "#t.forward(100)\n",
    "#t.right(72)\n",
    "#t.forward(100)\n",
    "#t.right(72)\n",
    "#t.forward(100)\n",
    "#t.backward(200)\n",
    "t.fillcolor('blue')\n",
    "t.begin_fill() # Tô toàn bộ bên trong hình tròn\n",
    "t.circle(100) # Hình tròn bán kính 100\n",
    "t.end_fill()\n",
    "\n",
    "t.left(45)\n",
    "t.penup() # Nhấc bút\n",
    "t.forward(100)\n",
    "t.pendown() # Hạ bút\n",
    "t.circle(30)\n",
    "#Bước 4: Kết thúc\n",
    "turtle.done()"
   ]
  }
 ],
 "metadata": {
  "kernelspec": {
   "display_name": "Python 3 (ipykernel)",
   "language": "python",
   "name": "python3"
  },
  "language_info": {
   "codemirror_mode": {
    "name": "ipython",
    "version": 3
   },
   "file_extension": ".py",
   "mimetype": "text/x-python",
   "name": "python",
   "nbconvert_exporter": "python",
   "pygments_lexer": "ipython3",
   "version": "3.9.12"
  }
 },
 "nbformat": 4,
 "nbformat_minor": 5
}
