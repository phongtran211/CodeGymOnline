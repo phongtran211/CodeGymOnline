{
 "cells": [
  {
   "cell_type": "code",
   "execution_count": 1,
   "id": "7fe11a05",
   "metadata": {},
   "outputs": [
    {
     "name": "stdout",
     "output_type": "stream",
     "text": [
      "Nhập tọa độ điểm A: \n",
      "xA = 4\n",
      "yA = 1\n",
      "Nhập tọa độ điểm B: \n",
      "xB = 3\n",
      "yB = 7\n",
      "Nhập tọa độ điểm C: \n",
      "xC = 3\n",
      "yC = 2\n",
      "Nhập đường viền hình bình hành: \n",
      "red\n",
      "Nhập màu cần tô cho hình bình hành: \n",
      "blue\n",
      "Tọa độ điểm D1 ( 4 , -4 )\n"
     ]
    }
   ],
   "source": [
    "print(\"Nhập tọa độ điểm A: \")\n",
    "xA = int(input(\"xA = \"))\n",
    "yA = int(input(\"yA = \"))\n",
    "\n",
    "print(\"Nhập tọa độ điểm B: \")\n",
    "xB = int(input(\"xB = \"))\n",
    "yB = int(input(\"yB = \"))\n",
    "\n",
    "print(\"Nhập tọa độ điểm C: \")\n",
    "xC = int(input(\"xC = \"))\n",
    "yC = int(input(\"yC = \"))\n",
    "\n",
    "print(\"Nhập đường viền hình bình hành: \")\n",
    "colorbody = input()\n",
    "print(\"Nhập màu cần tô cho hình bình hành: \")\n",
    "background = input()\n",
    "\n",
    "xD = xA - xB + xC\n",
    "yD = yA - yB + yC\n",
    "print(\"Tọa độ điểm D1\",\"(\", xD,\",\", yD,\")\")\n",
    "\n",
    "import turtle\n",
    "t = turtle.Turtle()\n",
    "t.shape()\n",
    "t.hideturtle()\n",
    "t.color(colorbody)\n",
    "t.pensize(3)\n",
    "\n",
    "t.fillcolor(background)\n",
    "t.begin_fill()\n",
    "t.penup()\n",
    "t.goto(xA*50, yA*50)\n",
    "t.pendown()\n",
    "t.goto(xB*50, yB*50)\n",
    "t.goto(xC*50, yC*50)\n",
    "t.goto(xD*50, yD*50)\n",
    "t.goto(xA*50, yA*50)\n",
    "t.end_fill()\n",
    "\n",
    "turtle.done()"
   ]
  }
 ],
 "metadata": {
  "kernelspec": {
   "display_name": "Python 3 (ipykernel)",
   "language": "python",
   "name": "python3"
  },
  "language_info": {
   "codemirror_mode": {
    "name": "ipython",
    "version": 3
   },
   "file_extension": ".py",
   "mimetype": "text/x-python",
   "name": "python",
   "nbconvert_exporter": "python",
   "pygments_lexer": "ipython3",
   "version": "3.9.12"
  }
 },
 "nbformat": 4,
 "nbformat_minor": 5
}
