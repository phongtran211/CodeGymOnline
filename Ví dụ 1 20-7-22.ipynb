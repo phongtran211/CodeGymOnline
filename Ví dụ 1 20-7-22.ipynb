{
 "cells": [
  {
   "cell_type": "code",
   "execution_count": 7,
   "id": "fed794b1",
   "metadata": {},
   "outputs": [
    {
     "name": "stdout",
     "output_type": "stream",
     "text": [
      "Ngày: 10\n",
      "Tháng: 12\n",
      "Năm: 1993\n",
      "Hà Nội, ngày  10 tháng  12 năm  1993\n",
      "Hà Nội, ngày 10 tháng 12 năm 1993\n"
     ]
    }
   ],
   "source": [
    "day = input(\"Ngày: \")\n",
    "month = input(\"Tháng: \")\n",
    "year = input(\"Năm: \")\n",
    "print(\"Hà Nội, ngày \", day, \"tháng \", month, \"năm \", year)\n",
    "print(\"Hà Nội, ngày \" + day + \" tháng \" + month + \" năm \" + year)"
   ]
  },
  {
   "cell_type": "code",
   "execution_count": null,
   "id": "a9591f7c",
   "metadata": {},
   "outputs": [],
   "source": []
  }
 ],
 "metadata": {
  "kernelspec": {
   "display_name": "Python 3 (ipykernel)",
   "language": "python",
   "name": "python3"
  },
  "language_info": {
   "codemirror_mode": {
    "name": "ipython",
    "version": 3
   },
   "file_extension": ".py",
   "mimetype": "text/x-python",
   "name": "python",
   "nbconvert_exporter": "python",
   "pygments_lexer": "ipython3",
   "version": "3.9.12"
  }
 },
 "nbformat": 4,
 "nbformat_minor": 5
}
