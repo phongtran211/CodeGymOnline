{
 "cells": [
  {
   "cell_type": "code",
   "execution_count": 14,
   "id": "dc64c23d",
   "metadata": {},
   "outputs": [
    {
     "name": "stdout",
     "output_type": "stream",
     "text": [
      "Nhập vào một chuỗi bất kỳ:    dfbd 89 48 skdjhf 0123 348   \n",
      "['8', '9', '4', '8', '0', '1', '2', '3', '3', '4', '8']\n",
      "11\n",
      "Tổng các số chẵn: 68\n",
      "Tổng các số lẻ: 32\n"
     ]
    }
   ],
   "source": [
    "# Nhập vào một chuỗi gồm các chữ cái và chữ số. Tính tổng các chữ số chẵn, lẻ trong chuỗi.\n",
    "import re\n",
    "\n",
    "text = input(\"Nhập vào một chuỗi bất kỳ: \")\n",
    "text_number = re.findall (r\"\\d\" , text)\n",
    "print(text_number)\n",
    "print(len(text_number))\n",
    "tong_chan = 0\n",
    "tong_le = 0\n",
    "for i in text_number:\n",
    "    if int(i)%2 == 0:\n",
    "        tong_chan = tong_chan + int(i)\n",
    "    else:\n",
    "        tong_le = tong_le + int(i)\n",
    "print(\"Tổng các số chẵn:\", tong_chan)\n",
    "print(\"Tổng các số lẻ:\", tong_le)\n",
    "    "
   ]
  },
  {
   "cell_type": "code",
   "execution_count": null,
   "id": "843052d8",
   "metadata": {},
   "outputs": [],
   "source": []
  }
 ],
 "metadata": {
  "kernelspec": {
   "display_name": "Python 3 (ipykernel)",
   "language": "python",
   "name": "python3"
  },
  "language_info": {
   "codemirror_mode": {
    "name": "ipython",
    "version": 3
   },
   "file_extension": ".py",
   "mimetype": "text/x-python",
   "name": "python",
   "nbconvert_exporter": "python",
   "pygments_lexer": "ipython3",
   "version": "3.9.12"
  }
 },
 "nbformat": 4,
 "nbformat_minor": 5
}
