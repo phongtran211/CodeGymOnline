{
 "cells": [
  {
   "cell_type": "code",
   "execution_count": 28,
   "id": "07237860",
   "metadata": {},
   "outputs": [
    {
     "name": "stdout",
     "output_type": "stream",
     "text": [
      "Nhập họ và tên:            kiM   tRAn   hUnG   \n",
      "Kim Tran Hung\n",
      "Kim Tran Hung\n"
     ]
    }
   ],
   "source": [
    "# Nhập vào họ tên của một người (Giả sử chỉ có 3 chữ).\n",
    "# In họ tên người đó ra màn hình dưới dạng chuẩn:\n",
    "# - Không có ký tự trắng thừa ở đầu, cuối và giữa các chữ.\n",
    "# - Chữ cái đầu mỗi từ viết hoa còn lại viết thường.\n",
    "# Ví dụ nhập NgUYỄn VăN bÌNH thì kết quả là Nguyễn Văn Bình\n",
    "\n",
    "full_name1 = full_name2 = input(\"Nhập họ và tên: \")\n",
    "\n",
    "# Cách 1\n",
    "full_name1 = full_name1.lower().split()\n",
    "full_name1 = \" \".join(full_name1)\n",
    "print(full_name1.title())\n",
    "\n",
    "# Cách 2\n",
    "full_name2 = full_name2.lower().split()\n",
    "first_name = full_name2[0].capitalize()\n",
    "middle_name = full_name2[1].capitalize()\n",
    "last_name = full_name2[2].capitalize()\n",
    "print(first_name, middle_name, last_name)"
   ]
  },
  {
   "cell_type": "code",
   "execution_count": null,
   "id": "f0d15928",
   "metadata": {},
   "outputs": [],
   "source": []
  }
 ],
 "metadata": {
  "kernelspec": {
   "display_name": "Python 3 (ipykernel)",
   "language": "python",
   "name": "python3"
  },
  "language_info": {
   "codemirror_mode": {
    "name": "ipython",
    "version": 3
   },
   "file_extension": ".py",
   "mimetype": "text/x-python",
   "name": "python",
   "nbconvert_exporter": "python",
   "pygments_lexer": "ipython3",
   "version": "3.9.12"
  }
 },
 "nbformat": 4,
 "nbformat_minor": 5
}
