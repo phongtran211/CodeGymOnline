{
 "cells": [
  {
   "cell_type": "code",
   "execution_count": 14,
   "id": "2caea1eb",
   "metadata": {
    "scrolled": false
   },
   "outputs": [
    {
     "name": "stdout",
     "output_type": "stream",
     "text": [
      "Chuyển từ độ C sang độ F\n",
      "Nhập độ C: 1\n",
      "1 độ C bằng  33.8 độ F\n"
     ]
    }
   ],
   "source": [
    "print(\"Chuyển từ độ C sang độ F\")\n",
    "C = input(\"Nhập độ C: \")\n",
    "F = (9 * int(C))/5 + 32\n",
    "print(C, \"độ C bằng \", F, \"độ F\")"
   ]
  },
  {
   "cell_type": "code",
   "execution_count": 1,
   "id": "c9812733",
   "metadata": {},
   "outputs": [
    {
     "data": {
      "text/plain": [
       "'C:\\\\Users\\\\Kim Tran Hung'"
      ]
     },
     "execution_count": 1,
     "metadata": {},
     "output_type": "execute_result"
    }
   ],
   "source": [
    "pwd"
   ]
  },
  {
   "cell_type": "code",
   "execution_count": null,
   "id": "37a4df0c",
   "metadata": {},
   "outputs": [],
   "source": []
  }
 ],
 "metadata": {
  "kernelspec": {
   "display_name": "Python 3 (ipykernel)",
   "language": "python",
   "name": "python3"
  },
  "language_info": {
   "codemirror_mode": {
    "name": "ipython",
    "version": 3
   },
   "file_extension": ".py",
   "mimetype": "text/x-python",
   "name": "python",
   "nbconvert_exporter": "python",
   "pygments_lexer": "ipython3",
   "version": "3.9.12"
  }
 },
 "nbformat": 4,
 "nbformat_minor": 5
}
