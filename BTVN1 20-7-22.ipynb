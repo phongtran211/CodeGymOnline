{
 "cells": [
  {
   "cell_type": "code",
   "execution_count": 1,
   "id": "9ad6f002",
   "metadata": {
    "scrolled": true
   },
   "outputs": [
    {
     "name": "stdout",
     "output_type": "stream",
     "text": [
      "Nhập tọa độ điểm A: \n",
      "xA = 1\n",
      "yA = 3\n",
      "Nhập tọa độ điểm B: \n",
      "xB = 4\n",
      "yB = 7\n",
      "Nhập tọa độ điểm C: \n",
      "xC = 5\n",
      "yC = 8\n",
      "Nhập tọa độ điểm D: \n",
      "xD = 7\n",
      "yD = 9\n",
      "15.642246457208724\n",
      "30.96375653207352\n",
      "-30.96375653207352\n",
      "-15.642246457208724\n",
      "0.0\n"
     ]
    }
   ],
   "source": [
    "import math\n",
    "\n",
    "print(\"Nhập tọa độ điểm A: \")\n",
    "xA = float(input(\"xA = \"))\n",
    "yA = float(input(\"yA = \"))\n",
    "\n",
    "print(\"Nhập tọa độ điểm B: \")\n",
    "xB = float(input(\"xB = \"))\n",
    "yB = float(input(\"yB = \"))\n",
    "\n",
    "print(\"Nhập tọa độ điểm C: \")\n",
    "xC = float(input(\"xC = \"))\n",
    "yC = float(input(\"yC = \"))\n",
    "\n",
    "print(\"Nhập tọa độ điểm D: \")\n",
    "xD = float(input(\"xD = \"))\n",
    "yD = float(input(\"yD = \"))\n",
    "\n",
    "#cl = input(\"Nhập màu của tứ giác: \")\n",
    "\n",
    "xAB = (xB - xA)**2\n",
    "yAB = (yB - yA)**2\n",
    "xBC = (xC - xB)**2\n",
    "yBC = (yC - yB)**2\n",
    "xCD = (xD - xC)**2\n",
    "yCD = (yD - yC)**2\n",
    "xDA = (xA - xD)**2\n",
    "yDA = (yA - yD)**2\n",
    "\n",
    "#vtABBA = math.sqrt(xAB + yAB)\n",
    "#vtBCCB = math.sqrt(xBC + yBC)\n",
    "#vtCDDC = math.sqrt(xCD + yCD)\n",
    "#vtDAAD = math.sqrt(xDA + yDA)\n",
    "\n",
    "vtABBA = math.atan2(yAB, xAB)\n",
    "vtBCCB = math.atan2(yBC, xBC)\n",
    "vtCDDC = math.atan2(yCD, xCD)\n",
    "vtDAAD = math.atan2(yDA, xDA)\n",
    "\n",
    "gocABC = math.degrees(vtABBA - vtBCCB)\n",
    "gocBCD = math.degrees(vtBCCB - vtCDDC)\n",
    "gocCDA = math.degrees(vtCDDC - vtDAAD)\n",
    "gocDAB = math.degrees(vtDAAD - vtABBA)\n",
    "\n",
    "print(gocABC)\n",
    "print(gocBCD)\n",
    "print(gocCDA)\n",
    "print(gocDAB)\n",
    "\n",
    "print(gocABC + gocBCD + gocCDA + gocDAB)\n",
    "\n",
    "import turtle\n",
    "t = turtle.Turtle()\n",
    "t.shape()\n",
    "t.hideturtle()\n",
    "t.pensize(3)\n",
    "\n",
    "t.fillcolor(\"blue\")\n",
    "t.begin_fill()\n",
    "t.penup()\n",
    "t.goto(xA*50, yA*50)\n",
    "t.pendown()\n",
    "t.goto(xB*50, yB*50)\n",
    "t.goto(xC*50, yC*50)\n",
    "t.goto(xD*50, yD*50)\n",
    "t.goto(xA*50, yA*50)\n",
    "t.end_fill()\n",
    "\n",
    "turtle.done()"
   ]
  },
  {
   "cell_type": "markdown",
   "id": "f6c89a6f",
   "metadata": {},
   "source": [
    "###### "
   ]
  }
 ],
 "metadata": {
  "kernelspec": {
   "display_name": "Python 3 (ipykernel)",
   "language": "python",
   "name": "python3"
  },
  "language_info": {
   "codemirror_mode": {
    "name": "ipython",
    "version": 3
   },
   "file_extension": ".py",
   "mimetype": "text/x-python",
   "name": "python",
   "nbconvert_exporter": "python",
   "pygments_lexer": "ipython3",
   "version": "3.9.12"
  }
 },
 "nbformat": 4,
 "nbformat_minor": 5
}
