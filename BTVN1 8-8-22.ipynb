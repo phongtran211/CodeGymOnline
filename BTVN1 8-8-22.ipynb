{
 "cells": [
  {
   "cell_type": "code",
   "execution_count": 45,
   "id": "45371970",
   "metadata": {},
   "outputs": [
    {
     "name": "stdout",
     "output_type": "stream",
     "text": [
      "Nhập vào họ và tên:      kIM     Trần  hÙng   \n",
      "Kim Tran Hung\n"
     ]
    }
   ],
   "source": [
    "# Viết chương trình chuyển tiếng Việt có dấu sang tiếng Việt không có dấu.\n",
    "# Ví dụ: Nhập vào là \"Nguyễn văn bình\" thì kết quả là \"Nguyen van binh\".\n",
    "\n",
    "full_name = input(\"Nhập vào họ và tên: \")\n",
    "full_name = full_name.lower().split()\n",
    "full_name = \" \".join(full_name)\n",
    "full_name_fix = \"\"\n",
    "\n",
    "for i in range(len(full_name)):\n",
    "    if full_name[i] == \"á\" or full_name[i] == \"à\" or full_name[i] == \"ả\" or full_name[i] == \"ạ\" or full_name[i] == \"ã\":\n",
    "        full_name = full_name.replace(full_name[i], \"a\")\n",
    "    elif full_name[i] == \"ắ\" or full_name[i] == \"ằ\" or full_name[i] == \"ẳ\" or full_name[i] == \"ặ\" or full_name[i] == \"ẵ\":\n",
    "        full_name = full_name.replace(full_name[i], \"a\")\n",
    "    elif full_name[i] == \"ấ\" or full_name[i] == \"ầ\" or full_name[i] == \"ẩ\" or full_name[i] == \"ậ\" or full_name[i] == \"ẫ\":\n",
    "        full_name = full_name.replace(full_name[i], \"a\")\n",
    "    elif full_name[i] == \"đ\":\n",
    "        full_name = full_name.replace(full_name[i], \"d\")\n",
    "    elif full_name[i] == \"é\" or full_name[i] == \"è\" or full_name[i] == \"ẻ\" or full_name[i] == \"ẹ\" or full_name[i] == \"ẽ\":\n",
    "        full_name = full_name.replace(full_name[i], \"e\")\n",
    "    elif full_name[i] == \"ế\" or full_name[i] == \"ề\" or full_name[i] == \"ể\" or full_name[i] == \"ệ\" or full_name[i] == \"ễ\":\n",
    "        full_name = full_name.replace(full_name[i], \"e\")\n",
    "    elif full_name[i] == \"í\" or full_name[i] == \"ì\" or full_name[i] == \"ỉ\" or full_name[i] == \"ị\" or full_name[i] == \"ĩ\":\n",
    "        full_name = full_name.replace(full_name[i], \"i\")\n",
    "    elif full_name[i] == \"ó\" or full_name[i] == \"ò\" or full_name[i] == \"ỏ\" or full_name[i] == \"ọ\" or full_name[i] == \"õ\":\n",
    "        full_name = full_name.replace(full_name[i], \"o\")\n",
    "    elif full_name[i] == \"ố\" or full_name[i] == \"ồ\" or full_name[i] == \"ổ\" or full_name[i] == \"ộ\" or full_name[i] == \"ỗ\":\n",
    "        full_name = full_name.replace(full_name[i], \"o\")\n",
    "    elif full_name[i] == \"ớ\" or full_name[i] == \"ờ\" or full_name[i] == \"ở\" or full_name[i] == \"ợ\" or full_name[i] == \"ỡ\":\n",
    "        full_name = full_name.replace(full_name[i], \"o\")\n",
    "    elif full_name[i] == \"ú\" or full_name[i] == \"ù\" or full_name[i] == \"ủ\" or full_name[i] == \"ụ\" or full_name[i] == \"ũ\":\n",
    "        full_name = full_name.replace(full_name[i], \"u\")\n",
    "    elif full_name[i] == \"ứ\" or full_name[i] == \"ừ\" or full_name[i] == \"ử\" or full_name[i] == \"ự\" or full_name[i] == \"ữ\":\n",
    "        full_name = full_name.replace(full_name[i], \"u\")\n",
    "    elif full_name[i] == \"ý\" or full_name[i] == \"ỳ\" or full_name[i] == \"ỷ\" or full_name[i] == \"ỵ\" or full_name[i] == \"ỹ\":\n",
    "        full_name = full_name.replace(full_name[i], \"y\")\n",
    "\n",
    "full_name = full_name.split()\n",
    "for i in range(len(full_name)):\n",
    "    name = full_name[i].capitalize()\n",
    "    full_name_fix = full_name_fix + name + \" \"\n",
    "    \n",
    "full_name_fix = full_name_fix.rstrip()\n",
    "print(full_name_fix)"
   ]
  },
  {
   "cell_type": "code",
   "execution_count": null,
   "id": "1f9b6dde",
   "metadata": {},
   "outputs": [],
   "source": []
  },
  {
   "cell_type": "code",
   "execution_count": null,
   "id": "8dd4126e",
   "metadata": {},
   "outputs": [],
   "source": [
    "\n"
   ]
  }
 ],
 "metadata": {
  "kernelspec": {
   "display_name": "Python 3 (ipykernel)",
   "language": "python",
   "name": "python3"
  },
  "language_info": {
   "codemirror_mode": {
    "name": "ipython",
    "version": 3
   },
   "file_extension": ".py",
   "mimetype": "text/x-python",
   "name": "python",
   "nbconvert_exporter": "python",
   "pygments_lexer": "ipython3",
   "version": "3.9.12"
  }
 },
 "nbformat": 4,
 "nbformat_minor": 5
}
