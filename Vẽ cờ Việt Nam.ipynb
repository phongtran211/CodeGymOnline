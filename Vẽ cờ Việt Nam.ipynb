{
 "cells": [
  {
   "cell_type": "code",
   "execution_count": 1,
   "id": "92498373",
   "metadata": {},
   "outputs": [],
   "source": [
    "import turtle\n",
    "\n",
    "t = turtle.Turtle()\n",
    "t.shape()\n",
    "t.color('red')\n",
    "t.pensize(1)\n",
    "\n",
    "t.fillcolor('red')\n",
    "t.begin_fill()\n",
    "t.forward(400)\n",
    "t.right(90)\n",
    "t.forward(200)\n",
    "t.right(90)\n",
    "t.forward(400)\n",
    "t.right(90)\n",
    "t.forward(200)\n",
    "t.right(90)\n",
    "t.end_fill()\n",
    "\n",
    "t.right(40)\n",
    "t.penup()\n",
    "t.forward(222)\n",
    "t.left(112)\n",
    "t.pendown()\n",
    "t.color('yellow')\n",
    "t.fillcolor('yellow')\n",
    "t.begin_fill()\n",
    "t.forward(100)\n",
    "t.right(144)\n",
    "t.forward(100)\n",
    "t.right(144)\n",
    "t.forward(100)\n",
    "t.right(144)\n",
    "t.forward(100)\n",
    "t.right(144)\n",
    "t.forward(100)\n",
    "t.end_fill()\n",
    "\n",
    "turtle.done()"
   ]
  }
 ],
 "metadata": {
  "kernelspec": {
   "display_name": "Python 3 (ipykernel)",
   "language": "python",
   "name": "python3"
  },
  "language_info": {
   "codemirror_mode": {
    "name": "ipython",
    "version": 3
   },
   "file_extension": ".py",
   "mimetype": "text/x-python",
   "name": "python",
   "nbconvert_exporter": "python",
   "pygments_lexer": "ipython3",
   "version": "3.9.12"
  }
 },
 "nbformat": 4,
 "nbformat_minor": 5
}
