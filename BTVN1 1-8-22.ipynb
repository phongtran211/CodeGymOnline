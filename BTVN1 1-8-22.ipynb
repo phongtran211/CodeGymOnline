{
 "cells": [
  {
   "cell_type": "code",
   "execution_count": 18,
   "id": "c78c960a",
   "metadata": {
    "scrolled": true
   },
   "outputs": [
    {
     "name": "stdout",
     "output_type": "stream",
     "text": [
      "Nhập mã vạch gồm 13 chữ số: 4902778120971\n",
      "Đây không phải mã vạch!\n"
     ]
    }
   ],
   "source": [
    "# Một vã vạch hàng hóa là một chuỗi có 13 chữ số, chữ số cuối cùng gọi là chữ số kiểm tra C.\n",
    "# Gọi A là tổng các chữ số ở vị trí lẻ (trừ chữ số kiểm tra C).\n",
    "# Gọi B là tổng các chữ số ở vị trí chẵn.\n",
    "# Gọi D = A + 3B.\n",
    "# Nếu phần dư của D chia cho 10 khác không thì F=10-phần dư, ngược lại F = 0.\n",
    "# Một mã vạch được coi là mã vạch đúng nếu F=C.\n",
    "# Viết phần mềm kiểm tra tính đúng đắn của một mã vạch nhập vào.\n",
    "# Ví dụ: 4902778120972 là 1 mã vạch đúng, 4902778120973 là không phải mã vạch.\n",
    "# 8935001810339\n",
    "\n",
    "mavach = input(\"Nhập mã vạch gồm 13 chữ số: \")\n",
    "i = 0\n",
    "j = 1\n",
    "A = 0\n",
    "B = 0\n",
    "C = int(mavach[-1])\n",
    "\n",
    "while i < 11 and j < 12:\n",
    "    A = A + int(mavach[i])\n",
    "    B = B + int(mavach[j])\n",
    "    i = i + 2\n",
    "    j = j + 2\n",
    "\n",
    "D = A + 3*B\n",
    "D10 = D%10\n",
    "\n",
    "if D10 != 0:\n",
    "    F = 10 - D10\n",
    "else:\n",
    "    F = 0\n",
    "\n",
    "if F == C:\n",
    "    print(\"Đây là mã vạch đúng!\")\n",
    "else:\n",
    "    print(\"Đây không phải mã vạch!\")"
   ]
  },
  {
   "cell_type": "code",
   "execution_count": null,
   "id": "31e9b9f6",
   "metadata": {},
   "outputs": [],
   "source": []
  }
 ],
 "metadata": {
  "kernelspec": {
   "display_name": "Python 3 (ipykernel)",
   "language": "python",
   "name": "python3"
  },
  "language_info": {
   "codemirror_mode": {
    "name": "ipython",
    "version": 3
   },
   "file_extension": ".py",
   "mimetype": "text/x-python",
   "name": "python",
   "nbconvert_exporter": "python",
   "pygments_lexer": "ipython3",
   "version": "3.9.12"
  }
 },
 "nbformat": 4,
 "nbformat_minor": 5
}
