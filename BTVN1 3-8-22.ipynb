{
 "cells": [
  {
   "cell_type": "code",
   "execution_count": 39,
   "id": "4cb36f17",
   "metadata": {},
   "outputs": [
    {
     "name": "stdout",
     "output_type": "stream",
     "text": [
      "Nhập vào số nguyên thứ nhất: 60\n",
      "Nhập vào số nguyên thứ hai: 30\n",
      "UCLL của 2 số 60 và 30 là: 30\n"
     ]
    }
   ],
   "source": [
    "# Tìm ước chung lớn nhất của hai số nguyên nhập vào từ bàn phím.\n",
    "# Cách 1:\n",
    "a = n1 = int(input(\"Nhập vào số nguyên thứ nhất: \"))\n",
    "b = n2 = int(input(\"Nhập vào số nguyên thứ hai: \"))\n",
    "\n",
    "while n1 != n2:\n",
    "    if n1 > n2:\n",
    "        n1 = n1 - n2\n",
    "    else:\n",
    "        n2 = n2 - n1\n",
    "print(\"UCLL của 2 số\", a, \"và\", b, \"là:\", n1)"
   ]
  },
  {
   "cell_type": "code",
   "execution_count": 37,
   "id": "60bc473a",
   "metadata": {},
   "outputs": [
    {
     "name": "stdout",
     "output_type": "stream",
     "text": [
      "UCLL của 2 số 5 và 5 là: 5\n"
     ]
    }
   ],
   "source": [
    "# Cách 2\n",
    "c = n1 % n2\n",
    "while c != 0:\n",
    "    n1 = n2\n",
    "    n2 = c\n",
    "    c = n1 % n2\n",
    "print(\"UCLL của 2 số\", a, \"và\", b, \"là:\", n2)"
   ]
  },
  {
   "cell_type": "code",
   "execution_count": null,
   "id": "20885ec6",
   "metadata": {},
   "outputs": [],
   "source": []
  }
 ],
 "metadata": {
  "kernelspec": {
   "display_name": "Python 3 (ipykernel)",
   "language": "python",
   "name": "python3"
  },
  "language_info": {
   "codemirror_mode": {
    "name": "ipython",
    "version": 3
   },
   "file_extension": ".py",
   "mimetype": "text/x-python",
   "name": "python",
   "nbconvert_exporter": "python",
   "pygments_lexer": "ipython3",
   "version": "3.9.12"
  }
 },
 "nbformat": 4,
 "nbformat_minor": 5
}
