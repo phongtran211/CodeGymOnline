{
 "cells": [
  {
   "cell_type": "code",
   "execution_count": 1,
   "id": "9ffcb453",
   "metadata": {
    "scrolled": false
   },
   "outputs": [
    {
     "name": "stdout",
     "output_type": "stream",
     "text": [
      "Nhập vào dãy số cách nhau 1 khoảng trắng: -5 -11 -6 -3 -4 8 9 7 5 7 8 12 10 -6\n",
      "Tổng của dãy số là:  31\n",
      "Trung bình cộng của dãy số là:  2.2142857142857144\n",
      "Số âm lớn nhất là:  -3\n",
      "Số dương bé nhất là:  5\n"
     ]
    }
   ],
   "source": [
    "# Nhập vào một chuỗi gồm các số tự nhiên cách nhau một khoảng trắng.\n",
    "# Tính tổng, tính trung bình cộng các số. Tìm số âm lớn nhất và số dương bé nhất trong chuỗi vừa nhập.\n",
    "\n",
    "# Cách 1\n",
    "\n",
    "N = input(\"Nhập vào dãy số cách nhau 1 khoảng trắng: \")\n",
    "N = N.split()\n",
    "\n",
    "_sum = 0\n",
    "am = \"\"\n",
    "duong = \"\"\n",
    "\n",
    "for i in N:\n",
    "    _sum = _sum + int(i)\n",
    "    if int(i) < 0:\n",
    "        am = am + i + \" \"\n",
    "    if int(i) > 0:\n",
    "        duong = duong + i + \" \"\n",
    "\n",
    "tb = _sum/len(N)\n",
    "        \n",
    "list_am = am.split()\n",
    "max_am = int(list_am[0])\n",
    "for i in list_am:\n",
    "    if int(i) > max_am:\n",
    "        max_am = int(i)\n",
    "\n",
    "list_duong = duong.split()\n",
    "min_duong = int(list_duong[0])\n",
    "for i in list_duong:\n",
    "    if int(i) < min_duong:\n",
    "        min_duong = int(i)\n",
    "\n",
    "print(\"Tổng của dãy số là: \",_sum)\n",
    "print(\"Trung bình cộng của dãy số là: \",tb)\n",
    "print(\"Số âm lớn nhất là: \",max_am)\n",
    "print(\"Số dương bé nhất là: \",min_duong)"
   ]
  },
  {
   "cell_type": "code",
   "execution_count": 2,
   "id": "fd82b08b",
   "metadata": {},
   "outputs": [
    {
     "name": "stdout",
     "output_type": "stream",
     "text": [
      "Tổng của dãy số là:  31\n",
      "Trung bình cộng của dãy số là:  2.2142857142857144\n",
      "Số âm lớn nhất là:  -3\n",
      "Số dương bé nhất là:  5\n"
     ]
    }
   ],
   "source": [
    "# Cách 2\n",
    "\n",
    "am = None\n",
    "duong = None\n",
    "\n",
    "for i in N:\n",
    "    if int(i) < 0:\n",
    "        if am == None:\n",
    "            am = int(i)\n",
    "        else:\n",
    "            if am < int(i):\n",
    "                am = int(i)\n",
    "    if int(i) > 0:\n",
    "        if duong == None:\n",
    "            duong = int(i)\n",
    "        else:\n",
    "            if duong < int(i):\n",
    "                duong = int(i)\n",
    "                \n",
    "print(\"Tổng của dãy số là: \",_sum)\n",
    "print(\"Trung bình cộng của dãy số là: \",tb)\n",
    "print(\"Số âm lớn nhất là: \",max_am)\n",
    "print(\"Số dương bé nhất là: \",min_duong)"
   ]
  },
  {
   "cell_type": "code",
   "execution_count": null,
   "id": "26e0d331",
   "metadata": {},
   "outputs": [],
   "source": []
  }
 ],
 "metadata": {
  "kernelspec": {
   "display_name": "Python 3 (ipykernel)",
   "language": "python",
   "name": "python3"
  },
  "language_info": {
   "codemirror_mode": {
    "name": "ipython",
    "version": 3
   },
   "file_extension": ".py",
   "mimetype": "text/x-python",
   "name": "python",
   "nbconvert_exporter": "python",
   "pygments_lexer": "ipython3",
   "version": "3.9.12"
  }
 },
 "nbformat": 4,
 "nbformat_minor": 5
}
