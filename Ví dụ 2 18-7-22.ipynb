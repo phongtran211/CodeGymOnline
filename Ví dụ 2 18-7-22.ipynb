{
 "cells": [
  {
   "cell_type": "code",
   "execution_count": 7,
   "id": "9238bdbb",
   "metadata": {},
   "outputs": [
    {
     "name": "stdout",
     "output_type": "stream",
     "text": [
      "Hình hộp chữ nhật chứa tối đa \n",
      "19314\n",
      "hình lập phương\n"
     ]
    }
   ],
   "source": [
    "x = 111\n",
    "y = 87\n",
    "z = 56\n",
    "a = 3\n",
    "\n",
    "n = (111//3) * (87//3) * (56//3)\n",
    "\n",
    "print(\"Hình hộp chữ nhật chứa tối đa \")\n",
    "print(n)\n",
    "print(\"hình lập phương\")"
   ]
  },
  {
   "cell_type": "code",
   "execution_count": null,
   "id": "b2641fd4",
   "metadata": {},
   "outputs": [],
   "source": []
  }
 ],
 "metadata": {
  "kernelspec": {
   "display_name": "Python 3 (ipykernel)",
   "language": "python",
   "name": "python3"
  },
  "language_info": {
   "codemirror_mode": {
    "name": "ipython",
    "version": 3
   },
   "file_extension": ".py",
   "mimetype": "text/x-python",
   "name": "python",
   "nbconvert_exporter": "python",
   "pygments_lexer": "ipython3",
   "version": "3.9.12"
  }
 },
 "nbformat": 4,
 "nbformat_minor": 5
}
