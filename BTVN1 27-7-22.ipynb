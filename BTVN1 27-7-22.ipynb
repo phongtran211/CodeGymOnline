{
 "cells": [
  {
   "cell_type": "code",
   "execution_count": 27,
   "id": "a5b459f1",
   "metadata": {},
   "outputs": [
    {
     "name": "stdout",
     "output_type": "stream",
     "text": [
      "Nhập vào số điện tiêu dùng trong tháng: 100.5\n",
      "Nhập lỗi!\n"
     ]
    }
   ],
   "source": [
    "# Viết phần mềm tính giá tiền điện của các hộ người dùng.\n",
    "# Biết giá cước tiền điện năm 2022 được tính như sau:\n",
    "#    Dưới 50 số thì giá cước là 1678đ/1 số\n",
    "#    Từ số 51 đến số 100 với 1734 đ/số\n",
    "#    Từ 101 đến 200 với 2014đ/số\n",
    "#    Từ 201 đến 300 với 2536đ/số\n",
    "#    Từ 301 đến 400 với 2834đ/số\n",
    "#    Từ 401 trở đi với 2927đ/số.\n",
    "# Nhập vào số điện tiêu dùng trong tháng của một hộ gia đình.\n",
    "# Tính số tiền phải đóng trong tháng đó căn cứ vào giá cước ở trên.\n",
    "\n",
    "sodien = input(\"Nhập vào số điện tiêu dùng trong tháng: \")\n",
    "if sodien.isnumeric():\n",
    "    sodien = float(sodien)\n",
    "    if sodien > 0 and sodien <= 50:\n",
    "        tongtien = sodien*1678\n",
    "    elif sodien > 50 and sodien <= 100:\n",
    "        tongtien = 50*1678 + (sodien - 50)*1734\n",
    "    elif sodien > 100 and sodien <= 200:\n",
    "        tongtien = 50*1678 + 100*1734 + (sodien - 100)*2014\n",
    "    elif sodien > 200 and sodien <= 300:\n",
    "        tongtien = 50*1678 + 100*1734 + 200*2014 + (sodien - 200)*2536\n",
    "    elif sodien > 300 and sodien <= 400:\n",
    "        tongtien = 50*1678 + 100*1734 + 200*2014 + 300*2536 + (sodien - 300)*2834\n",
    "    elif sodien > 400:\n",
    "        tongtien = 50*1678 + 100*1734 + 200*2014 + 300*2536 + 400*2834 + (sodien - 400)*2927\n",
    "    print(\"Số tiền phải trả của tháng là: \", tongtien)\n",
    "else:\n",
    "    print(\"Nhập lỗi!\")"
   ]
  },
  {
   "cell_type": "code",
   "execution_count": null,
   "id": "3be2a9d9",
   "metadata": {},
   "outputs": [],
   "source": []
  }
 ],
 "metadata": {
  "kernelspec": {
   "display_name": "Python 3 (ipykernel)",
   "language": "python",
   "name": "python3"
  },
  "language_info": {
   "codemirror_mode": {
    "name": "ipython",
    "version": 3
   },
   "file_extension": ".py",
   "mimetype": "text/x-python",
   "name": "python",
   "nbconvert_exporter": "python",
   "pygments_lexer": "ipython3",
   "version": "3.9.12"
  }
 },
 "nbformat": 4,
 "nbformat_minor": 5
}
