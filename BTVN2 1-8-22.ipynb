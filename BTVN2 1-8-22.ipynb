{
 "cells": [
  {
   "cell_type": "code",
   "execution_count": 9,
   "id": "4ddffd1f",
   "metadata": {},
   "outputs": [
    {
     "name": "stdout",
     "output_type": "stream",
     "text": [
      "Nhập N: 100\n",
      "Những số chia hết cho 3 và không chia hết cho 6 là:\n",
      "3 9 15 21 27 33 39 45 51 57 63 69 75 81 87 93 99 "
     ]
    }
   ],
   "source": [
    "# Nhập vào một số tự nhiên N.\n",
    "# In ra màn hình tất cả các số nhỏ hơn N và những số này chia kết cho 3 nhưng không chia hết cho 6.\n",
    "\n",
    "n = int(input(\"Nhập N: \"))\n",
    "print(\"Những số chia hết cho 3 và không chia hết cho 6 là:\")\n",
    "i = 1\n",
    "while i <= n:\n",
    "    if i%3 == 0 and i%6 != 0:\n",
    "        print(i, end = \" \")\n",
    "    i = i +1"
   ]
  },
  {
   "cell_type": "code",
   "execution_count": null,
   "id": "e417f248",
   "metadata": {},
   "outputs": [],
   "source": []
  }
 ],
 "metadata": {
  "kernelspec": {
   "display_name": "Python 3 (ipykernel)",
   "language": "python",
   "name": "python3"
  },
  "language_info": {
   "codemirror_mode": {
    "name": "ipython",
    "version": 3
   },
   "file_extension": ".py",
   "mimetype": "text/x-python",
   "name": "python",
   "nbconvert_exporter": "python",
   "pygments_lexer": "ipython3",
   "version": "3.9.12"
  }
 },
 "nbformat": 4,
 "nbformat_minor": 5
}
