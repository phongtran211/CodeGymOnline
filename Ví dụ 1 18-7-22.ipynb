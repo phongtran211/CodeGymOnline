{
 "cells": [
  {
   "cell_type": "code",
   "execution_count": 18,
   "id": "06e330ac",
   "metadata": {},
   "outputs": [
    {
     "name": "stdout",
     "output_type": "stream",
     "text": [
      "a = 2\n",
      "b = 3\n",
      "c = 4\n",
      "True\n",
      "False\n",
      "False\n",
      "False\n"
     ]
    }
   ],
   "source": [
    "a = int(input(\"a = \"))\n",
    "b = int(input(\"b = \"))\n",
    "c = int(input(\"c = \"))\n",
    "\n",
    "tamgiac = a > 0 and b > 0 and c > 0 and (a + b) > c or (a + c) > b or (b + c) > a\n",
    "print(tamgiac)\n",
    "\n",
    "tamgiaccan = tamgiac and a == b or a == c or b == c\n",
    "print(tamgiaccan)\n",
    "\n",
    "tamgiacdeu = tamgiaccan and a == b == c\n",
    "print(tamgiacdeu)\n",
    "\n",
    "tamgiacvuong = tamgiac and (a*a + b*b) == c*c or (a*a + c*c) == b*b or (b*b + c*c) == a*a\n",
    "print(tamgiacvuong)\n"
   ]
  },
  {
   "cell_type": "code",
   "execution_count": null,
   "id": "638b1c09",
   "metadata": {},
   "outputs": [],
   "source": []
  }
 ],
 "metadata": {
  "kernelspec": {
   "display_name": "Python 3 (ipykernel)",
   "language": "python",
   "name": "python3"
  },
  "language_info": {
   "codemirror_mode": {
    "name": "ipython",
    "version": 3
   },
   "file_extension": ".py",
   "mimetype": "text/x-python",
   "name": "python",
   "nbconvert_exporter": "python",
   "pygments_lexer": "ipython3",
   "version": "3.9.12"
  }
 },
 "nbformat": 4,
 "nbformat_minor": 5
}
