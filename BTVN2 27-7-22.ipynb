{
 "cells": [
  {
   "cell_type": "code",
   "execution_count": 33,
   "id": "b9e960bc",
   "metadata": {},
   "outputs": [
    {
     "name": "stdout",
     "output_type": "stream",
     "text": [
      "Nhập hệ số a: 4\n",
      "Nhập hệ số b: -5\n",
      "Nhập hệ số c: -3\n",
      "Phương trình vừa nhập có dạng: 4x^2 - 5x  - 3 = 0\n"
     ]
    }
   ],
   "source": [
    "# Nhập a, b, c là hệ số của một đa thức bậc 2.\n",
    "# In ra phương trình bậc 2 dưới dạng chuẩn (dạng chuẩn có nghĩa là tự nhiên như khi viết tay đa thức ra giấy hoặc bảng).\n",
    "# Các hệ số 1, -1 thì không in hệ số, 0 thì không in  bậc đó. Ví dụ: a = 1, b = -3, c= 0 thì in ra là x^2 – 3x.\n",
    "\n",
    "a = int(input(\"Nhập hệ số a: \"))\n",
    "b = int(input(\"Nhập hệ số b: \"))\n",
    "c = int(input(\"Nhập hệ số c: \"))\n",
    "\n",
    "hesoA = \"\"\n",
    "hesoB = \"\"\n",
    "hesoC = \"\"\n",
    "\n",
    "if a == 0 and b == 0 and c == 0:\n",
    "    print(\"Phương trình không tồn tại!\")\n",
    "elif a == 0 and b == 0 and c != 0:\n",
    "    print(\"Phương trình vô nghĩa!\")\n",
    "else:\n",
    "    if a != 0:\n",
    "        if a == 1:\n",
    "            hesoA = \"x^2\"\n",
    "        elif a == -1:\n",
    "            hesoA = \"-x^2\"\n",
    "        else:\n",
    "            hesoA = str(a) + \"x^2\"\n",
    "\n",
    "    if b != 0:\n",
    "        if b == 1:\n",
    "            hesoB = \" + x \"\n",
    "        elif b == -1:\n",
    "            hesoB = \" - x \"\n",
    "        elif b > 0:\n",
    "            hesoB = \" + \" + str(b) + \"x \"\n",
    "        else:\n",
    "            hesoB = \" - \" + str(abs(b)) + \"x \"\n",
    "\n",
    "    if c != 0:\n",
    "        if c > 0:\n",
    "            hesoC = \" + \" + str(c)\n",
    "        else:\n",
    "            hesoC = \" - \" + str(abs(c))\n",
    "    print (\"Phương trình vừa nhập có dạng: \"+ hesoA + hesoB + hesoC + \" = 0\")"
   ]
  },
  {
   "cell_type": "code",
   "execution_count": null,
   "id": "63829e8e",
   "metadata": {},
   "outputs": [],
   "source": []
  }
 ],
 "metadata": {
  "kernelspec": {
   "display_name": "Python 3 (ipykernel)",
   "language": "python",
   "name": "python3"
  },
  "language_info": {
   "codemirror_mode": {
    "name": "ipython",
    "version": 3
   },
   "file_extension": ".py",
   "mimetype": "text/x-python",
   "name": "python",
   "nbconvert_exporter": "python",
   "pygments_lexer": "ipython3",
   "version": "3.9.12"
  }
 },
 "nbformat": 4,
 "nbformat_minor": 5
}
