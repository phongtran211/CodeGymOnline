{
 "cells": [
  {
   "cell_type": "code",
   "execution_count": 2,
   "id": "412d3100",
   "metadata": {},
   "outputs": [
    {
     "name": "stdout",
     "output_type": "stream",
     "text": [
      "Nghiệm a = -0.5885391235351562\n",
      "Nghiệm b = -0.588531494140625\n"
     ]
    }
   ],
   "source": [
    "# Tìm nghiệm gần đúng của hàm f(x) = e^x + sin(x) trong khoảng [-1, 1], với sai lệnh của nghiệm là alpha = 0.00001.\n",
    "# Gợi ý: dùng phương pháp chia đôi\n",
    "\n",
    "import math\n",
    "\n",
    "a = -1\n",
    "b = 1\n",
    "alpha = 0.00001\n",
    "\n",
    "while abs(a-b) > alpha:\n",
    "    h = (a+b)/2\n",
    "    fa = math.e**a + math.sin(a)\n",
    "    fb = math.e**b + math.sin(b)\n",
    "    fh = math.e**h + math.sin(h)\n",
    "    if fa*fh > 0:\n",
    "        a = h\n",
    "    else:\n",
    "        b = h\n",
    "        \n",
    "print(\"Nghiệm a =\", a)\n",
    "print(\"Nghiệm b =\", b)"
   ]
  },
  {
   "cell_type": "code",
   "execution_count": null,
   "id": "e5b5b115",
   "metadata": {},
   "outputs": [],
   "source": []
  }
 ],
 "metadata": {
  "kernelspec": {
   "display_name": "Python 3 (ipykernel)",
   "language": "python",
   "name": "python3"
  },
  "language_info": {
   "codemirror_mode": {
    "name": "ipython",
    "version": 3
   },
   "file_extension": ".py",
   "mimetype": "text/x-python",
   "name": "python",
   "nbconvert_exporter": "python",
   "pygments_lexer": "ipython3",
   "version": "3.9.12"
  }
 },
 "nbformat": 4,
 "nbformat_minor": 5
}
