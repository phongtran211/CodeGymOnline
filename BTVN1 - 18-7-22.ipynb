{
 "cells": [
  {
   "cell_type": "code",
   "execution_count": 3,
   "id": "d5a5491e",
   "metadata": {},
   "outputs": [
    {
     "name": "stdout",
     "output_type": "stream",
     "text": [
      "Nhập tổng thu nhập: 12000000\n",
      "Nhập số người phụ thuộc: 4\n",
      "Thu nhập cá nhân sau thuế là:  -5710000 đ\n"
     ]
    }
   ],
   "source": [
    "tongthunhap = int(input(\"Nhập tổng thu nhập: \"))\n",
    "songuoiphuthuoc = int(input(\"Nhập số người phụ thuộc: \"))\n",
    "giamtrugiacanh = 110000\n",
    "mucphuthuoc = 4400000\n",
    "tncn = tongthunhap - giamtrugiacanh - songuoiphuthuoc*mucphuthuoc\n",
    "print(\"Thu nhập cá nhân sau thuế là: \", tncn)"
   ]
  },
  {
   "cell_type": "code",
   "execution_count": null,
   "id": "ea5ce06c",
   "metadata": {},
   "outputs": [],
   "source": []
  }
 ],
 "metadata": {
  "kernelspec": {
   "display_name": "Python 3 (ipykernel)",
   "language": "python",
   "name": "python3"
  },
  "language_info": {
   "codemirror_mode": {
    "name": "ipython",
    "version": 3
   },
   "file_extension": ".py",
   "mimetype": "text/x-python",
   "name": "python",
   "nbconvert_exporter": "python",
   "pygments_lexer": "ipython3",
   "version": "3.9.12"
  }
 },
 "nbformat": 4,
 "nbformat_minor": 5
}
